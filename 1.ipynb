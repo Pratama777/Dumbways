{
 "cells": [
  {
   "cell_type": "markdown",
   "metadata": {},
   "source": [
    "# Soal nomor 1"
   ]
  },
  {
   "cell_type": "code",
   "execution_count": 98,
   "metadata": {},
   "outputs": [
    {
     "name": "stdout",
     "output_type": "stream",
     "text": [
      "Jumlah burung lovebird setelah 441 hari adalah 1235200201.497825 \n"
     ]
    }
   ],
   "source": [
    "hari = 0\n",
    "populasi = 6969\n",
    "\n",
    "while hari <= 420:\n",
    "    hari = hari + 21\n",
    "    gugur = populasi*0.111\n",
    "    populasi = 2*(populasi - gugur)\n",
    "    \n",
    "print(\"Jumlah burung lovebird setelah {} hari adalah {} \".format(hari,populasi))"
   ]
  }
 ],
 "metadata": {
  "kernelspec": {
   "display_name": "Python 3",
   "language": "python",
   "name": "python3"
  },
  "language_info": {
   "codemirror_mode": {
    "name": "ipython",
    "version": 3
   },
   "file_extension": ".py",
   "mimetype": "text/x-python",
   "name": "python",
   "nbconvert_exporter": "python",
   "pygments_lexer": "ipython3",
   "version": "3.7.3"
  }
 },
 "nbformat": 4,
 "nbformat_minor": 2
}
