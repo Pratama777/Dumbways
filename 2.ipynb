{
 "cells": [
  {
   "cell_type": "markdown",
   "metadata": {},
   "source": [
    "# Soal nomor 2"
   ]
  },
  {
   "cell_type": "code",
   "execution_count": 1,
   "metadata": {},
   "outputs": [],
   "source": [
    "def minmax(array):\n",
    "    if array.index(min(array)) < array.index(max(array)):\n",
    "        print([min(array),max(array)])\n",
    "    else:\n",
    "        sort_array = array.copy()\n",
    "        sort_array.sort()\n",
    "        del sort_array[0]\n",
    "        del sort_array[len(sort_array)-1]\n",
    "        for i in sort_array:\n",
    "            if array.index(i) < array.index(max(array)):\n",
    "                print([i,max(array)])\n",
    "                break\n",
    "        sort_array.reverse()\n",
    "        for k in sort_array:\n",
    "            if array.index(min(array)) < array.index(k): \n",
    "                print([min(array),k])\n",
    "                break"
   ]
  },
  {
   "cell_type": "code",
   "execution_count": 2,
   "metadata": {},
   "outputs": [],
   "source": [
    "data = ['h','g','a','b','d','f']"
   ]
  },
  {
   "cell_type": "code",
   "execution_count": 3,
   "metadata": {},
   "outputs": [
    {
     "name": "stdout",
     "output_type": "stream",
     "text": [
      "['a', 'f']\n"
     ]
    }
   ],
   "source": [
    "minmax(data)"
   ]
  },
  {
   "cell_type": "code",
   "execution_count": 4,
   "metadata": {},
   "outputs": [
    {
     "name": "stdout",
     "output_type": "stream",
     "text": [
      "['a', 'd']\n"
     ]
    }
   ],
   "source": [
    "minmax(['a','b','c','d'])"
   ]
  }
 ],
 "metadata": {
  "kernelspec": {
   "display_name": "Python 3",
   "language": "python",
   "name": "python3"
  },
  "language_info": {
   "codemirror_mode": {
    "name": "ipython",
    "version": 3
   },
   "file_extension": ".py",
   "mimetype": "text/x-python",
   "name": "python",
   "nbconvert_exporter": "python",
   "pygments_lexer": "ipython3",
   "version": "3.7.3"
  }
 },
 "nbformat": 4,
 "nbformat_minor": 2
}
